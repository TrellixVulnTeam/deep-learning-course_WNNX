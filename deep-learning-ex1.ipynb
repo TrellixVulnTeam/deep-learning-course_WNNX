{
 "cells": [
  {
   "cell_type": "markdown",
   "metadata": {},
   "source": [
    "# Deep Learning - Exercise 1"
   ]
  },
  {
   "cell_type": "markdown",
   "metadata": {},
   "source": [
    "## Covertype Data Set\n",
    "\n",
    "Data set that was chosen for this exercise is the Covertype Data Set and the problem is a multiclass classification problem - predicting forest cover type from cartographic variables only (no remotely sensed data).\n",
    "\n",
    "[Link to dataset in UCI Machine Learning Repository](https://archive.ics.uci.edu/ml/datasets/Covertype)"
   ]
  },
  {
   "cell_type": "markdown",
   "metadata": {},
   "source": [
    "### Imports"
   ]
  },
  {
   "cell_type": "code",
   "execution_count": 1,
   "metadata": {
    "collapsed": true
   },
   "outputs": [],
   "source": [
    "import pandas as pd\n",
    "import tensorflow as tf\n",
    "import numpy as np\n",
    "\n",
    "import shutil\n",
    "import os\n",
    "\n",
    "from sklearn.model_selection import train_test_split\n",
    "from sklearn.preprocessing import MinMaxScaler, MultiLabelBinarizer"
   ]
  },
  {
   "cell_type": "markdown",
   "metadata": {},
   "source": [
    "### Read the data"
   ]
  },
  {
   "cell_type": "code",
   "execution_count": 2,
   "metadata": {
    "collapsed": true
   },
   "outputs": [],
   "source": [
    "df = pd.read_csv('covtype.data', names = ['Elevation', 'Aspect', 'Slope', 'Horizontal_Distance_To_Hydrology', \n",
    "                                          'Vertical_Distance_To_Hydrology', 'Horizontal_Distance_To_Roadways', \n",
    "                                          'Hillshade_9am', 'Hillshade_Noon', 'Hillshade_3pm', \n",
    "                                          'Horizontal_Distance_To_Fire_Points', 'Wilderness_Area1', \n",
    "                                          'Wilderness_Area2', 'Wilderness_Area3', 'Wilderness_Area4', 'Soil_Type1', \n",
    "                                          'Soil_Type2', 'Soil_Type3', 'Soil_Type4', 'Soil_Type5', 'Soil_Type6', \n",
    "                                          'Soil_Type7', 'Soil_Type8', 'Soil_Type9', 'Soil_Type10', 'Soil_Type11', \n",
    "                                          'Soil_Type12', 'Soil_Type13', 'Soil_Type14', 'Soil_Type15', \n",
    "                                          'Soil_Type16', 'Soil_Type17', 'Soil_Type18', 'Soil_Type19', \n",
    "                                          'Soil_Type20', 'Soil_Type21', 'Soil_Type22', 'Soil_Type23', \n",
    "                                          'Soil_Type24', 'Soil_Type25', 'Soil_Type26', 'Soil_Type27', \n",
    "                                          'Soil_Type28', 'Soil_Type29', 'Soil_Type30', 'Soil_Type31', \n",
    "                                          'Soil_Type32', 'Soil_Type33', 'Soil_Type34', 'Soil_Type35', \n",
    "                                          'Soil_Type36', 'Soil_Type37', 'Soil_Type38', 'Soil_Type39', \n",
    "                                          'Soil_Type40', 'Cover_Type'])\n",
    "\n",
    "X = df.loc[:, df.columns != 'Cover_Type'].astype(float)\n",
    "y = df.loc[:, 'Cover_Type']"
   ]
  },
  {
   "cell_type": "markdown",
   "metadata": {},
   "source": [
    "### Prepare the data as input for the network"
   ]
  },
  {
   "cell_type": "code",
   "execution_count": 3,
   "metadata": {
    "collapsed": true
   },
   "outputs": [],
   "source": [
    "# Normalize the data\n",
    "X_values = X.iloc[:, :10].values.reshape(-1, 10)\n",
    "X.iloc[:, :10] = MinMaxScaler().fit_transform(X_values)\n",
    "# One hot encode labels\n",
    "y = pd.DataFrame(MultiLabelBinarizer().fit_transform(y.values.reshape(-1, 1)).astype(float))"
   ]
  },
  {
   "cell_type": "markdown",
   "metadata": {},
   "source": [
    "### Split the data into train, test and validation"
   ]
  },
  {
   "cell_type": "code",
   "execution_count": 4,
   "metadata": {
    "collapsed": true
   },
   "outputs": [],
   "source": [
    "X_train, X_test, y_train, y_test = train_test_split(X, y, test_size=0.3, random_state=42)\n",
    "X_train, X_validate, y_train, y_validate = train_test_split(X_train, y_train, test_size=0.1, random_state=42)"
   ]
  },
  {
   "cell_type": "markdown",
   "metadata": {},
   "source": [
    "### Hyperparameter tuning"
   ]
  },
  {
   "cell_type": "code",
   "execution_count": 5,
   "metadata": {
    "collapsed": true
   },
   "outputs": [],
   "source": [
    "epochs = 100\n",
    "learning_rate = 0.1\n",
    "keep_probability = 0.75\n",
    "max_norm_constraint = 3\n",
    "regularizer_type = 'L2'\n",
    "regularization = 0.1\n",
    "hidden_layer_size = 512\n",
    "batch_size = 32"
   ]
  },
  {
   "cell_type": "markdown",
   "metadata": {},
   "source": [
    "### Build the network"
   ]
  },
  {
   "cell_type": "code",
   "execution_count": 6,
   "metadata": {
    "collapsed": true
   },
   "outputs": [],
   "source": [
    "# Reset\n",
    "tf.reset_default_graph()\n",
    "\n",
    "# Placeholders\n",
    "x = tf.placeholder(tf.float32, [None, len(X_train.columns)], 'x')\n",
    "y = tf.placeholder(tf.float32, [None, len(y_train.columns)], 'y')\n",
    "keep_prob = tf.placeholder(tf.float32, name='keep_prob')\n",
    "\n",
    "# Regularization\n",
    "regularizer = None\n",
    "if regularizer_type == 'L1':\n",
    "    regularizer = tf.contrib.layers.l1_regularizer(regularization)\n",
    "elif regularizer_type == 'L2':\n",
    "    regularizer = tf.contrib.layers.l2_regularizer(regularization)\n",
    "#TODO - max norm constraint?\n",
    "\n",
    "# Model\n",
    "model = tf.contrib.layers.fully_connected(x, hidden_layer_size, tf.nn.relu, weights_regularizer=regularizer)\n",
    "model = tf.nn.dropout(model, keep_prob)\n",
    "model = tf.contrib.layers.fully_connected(model, len(y_train.columns), weights_regularizer=regularizer)\n",
    "logits = tf.nn.softmax(model)\n",
    "\n",
    "# Loss and Optimizer\n",
    "loss = tf.reduce_mean(tf.squared_difference(logits, y))\n",
    "tf.summary.scalar('loss', loss)\n",
    "optimizer = tf.train.GradientDescentOptimizer(learning_rate).minimize(loss)\n",
    "\n",
    "# Accuracy\n",
    "correct_pred = tf.equal(tf.argmax(logits, 1), tf.argmax(y, 1))\n",
    "accuracy = tf.reduce_mean(tf.cast(correct_pred, tf.float32), name='accuracy')\n",
    "tf.summary.scalar('accuracy', accuracy)\n",
    "\n",
    "summary_op = tf.summary.merge_all()"
   ]
  },
  {
   "cell_type": "markdown",
   "metadata": {},
   "source": [
    "### Auxiliary methods"
   ]
  },
  {
   "cell_type": "code",
   "execution_count": 7,
   "metadata": {
    "collapsed": true
   },
   "outputs": [],
   "source": [
    "def get_batch(X, y, current_batch_index):\n",
    "    batch_start_index = current_batch_index * batch_size\n",
    "    batch_end_index = (current_batch_index + 1) * batch_size\n",
    "    batch_features = X.iloc[batch_start_index:batch_end_index].values\n",
    "    batch_labels = y.iloc[batch_start_index:batch_end_index].values\n",
    "    return batch_features, batch_labels\n",
    "\n",
    "def print_stats(session, epoch, train_features, train_labels, valid_features, valid_labels, loss, accuracy):\n",
    "    feed_loss = { x: train_features, y: train_labels, keep_prob: 1.0 }\n",
    "    feed_valid = { x: valid_features, y: valid_labels, keep_prob: 1.0 }\n",
    "    loss = session.run(loss, feed_loss)\n",
    "    accuracy = session.run(accuracy, feed_valid)\n",
    "    train_summary_writer.add_summary(session.run(summary_op, feed_loss), epoch)\n",
    "    train_summary_writer.flush()\n",
    "    test_summary_writer.add_summary(session.run(summary_op, feed_valid), epoch)\n",
    "    test_summary_writer.flush()\n",
    "    print 'Epoch {:>2}: '.format(epoch + 1) + 'loss: %.2f' % loss, 'accuracy: %.2f' % accuracy\n",
    "    \n",
    "def clear_model():\n",
    "    if os.path.exists(save_model_path):\n",
    "        shutil.rmtree(save_model_path)\n",
    "    if os.path.exists(tensorboard_path):\n",
    "        shutil.rmtree(tensorboard_path)"
   ]
  },
  {
   "cell_type": "markdown",
   "metadata": {},
   "source": [
    "### For saving the model and writing to Tensorboard"
   ]
  },
  {
   "cell_type": "code",
   "execution_count": 8,
   "metadata": {
    "collapsed": true
   },
   "outputs": [],
   "source": [
    "save_model_path = 'model/'\n",
    "model_name = 'model'\n",
    "tensorboard_path = 'tensorboard/'\n",
    "\n",
    "clear_model()\n",
    "\n",
    "train_summary_writer = tf.summary.FileWriter(tensorboard_path + 'train')\n",
    "test_summary_writer = tf.summary.FileWriter(tensorboard_path + 'test')\n",
    "\n",
    "saver = tf.train.Saver()"
   ]
  },
  {
   "cell_type": "markdown",
   "metadata": {},
   "source": [
    "### Training the model"
   ]
  },
  {
   "cell_type": "code",
   "execution_count": 9,
   "metadata": {},
   "outputs": [
    {
     "name": "stdout",
     "output_type": "stream",
     "text": [
      "Training...\n",
      "Epoch  1: loss: 0.07 accuracy: 0.64\n",
      "Epoch  2: loss: 0.07 accuracy: 0.67\n",
      "Epoch  3: loss: 0.06 accuracy: 0.69\n",
      "Epoch  4: loss: 0.06 accuracy: 0.70\n",
      "Epoch  5: loss: 0.06 accuracy: 0.71\n",
      "Epoch  6: loss: 0.06 accuracy: 0.71\n",
      "Epoch  7: loss: 0.06 accuracy: 0.72\n",
      "Epoch  8: loss: 0.06 accuracy: 0.72\n",
      "Epoch  9: loss: 0.06 accuracy: 0.72\n",
      "Epoch 10: loss: 0.06 accuracy: 0.72\n",
      "Epoch 11: loss: 0.05 accuracy: 0.72\n",
      "Epoch 12: loss: 0.05 accuracy: 0.73\n",
      "Epoch 13: loss: 0.05 accuracy: 0.73\n",
      "Epoch 14: loss: 0.05 accuracy: 0.73\n",
      "Epoch 15: loss: 0.05 accuracy: 0.73\n",
      "Epoch 16: loss: 0.05 accuracy: 0.73\n",
      "Epoch 17: loss: 0.05 accuracy: 0.73\n",
      "Epoch 18: loss: 0.05 accuracy: 0.73\n",
      "Epoch 19: loss: 0.05 accuracy: 0.73\n",
      "Epoch 20: loss: 0.05 accuracy: 0.74\n",
      "Epoch 21: loss: 0.05 accuracy: 0.74\n",
      "Epoch 22: loss: 0.05 accuracy: 0.74\n",
      "Epoch 23: loss: 0.05 accuracy: 0.74\n",
      "Epoch 24: loss: 0.05 accuracy: 0.74\n",
      "Epoch 25: loss: 0.05 accuracy: 0.74\n",
      "Epoch 26: loss: 0.05 accuracy: 0.74\n",
      "Epoch 27: loss: 0.05 accuracy: 0.74\n",
      "Epoch 28: loss: 0.05 accuracy: 0.74\n",
      "Epoch 29: loss: 0.05 accuracy: 0.75\n",
      "Epoch 30: loss: 0.05 accuracy: 0.75\n",
      "Epoch 31: loss: 0.05 accuracy: 0.75\n",
      "Epoch 32: loss: 0.05 accuracy: 0.75\n",
      "Epoch 33: loss: 0.05 accuracy: 0.75\n",
      "Epoch 34: loss: 0.05 accuracy: 0.75\n",
      "Epoch 35: loss: 0.05 accuracy: 0.75\n",
      "Epoch 36: loss: 0.05 accuracy: 0.75\n",
      "Epoch 37: loss: 0.05 accuracy: 0.75\n",
      "Epoch 38: loss: 0.05 accuracy: 0.75\n",
      "Epoch 39: loss: 0.05 accuracy: 0.75\n",
      "Epoch 40: loss: 0.05 accuracy: 0.75\n",
      "Epoch 41: loss: 0.05 accuracy: 0.75\n",
      "Epoch 42: loss: 0.05 accuracy: 0.76\n",
      "Epoch 43: loss: 0.05 accuracy: 0.76\n",
      "Epoch 44: loss: 0.05 accuracy: 0.76\n",
      "Epoch 45: loss: 0.05 accuracy: 0.76\n",
      "Epoch 46: loss: 0.05 accuracy: 0.76\n",
      "Epoch 47: loss: 0.05 accuracy: 0.76\n",
      "Epoch 48: loss: 0.05 accuracy: 0.76\n",
      "Epoch 49: loss: 0.05 accuracy: 0.76\n",
      "Epoch 50: loss: 0.05 accuracy: 0.76\n",
      "Epoch 51: loss: 0.05 accuracy: 0.76\n",
      "Epoch 52: loss: 0.05 accuracy: 0.76\n",
      "Epoch 53: loss: 0.05 accuracy: 0.76\n",
      "Epoch 54: loss: 0.05 accuracy: 0.76\n",
      "Epoch 55: loss: 0.05 accuracy: 0.76\n",
      "Epoch 56: loss: 0.05 accuracy: 0.76\n",
      "Epoch 57: loss: 0.05 accuracy: 0.76\n",
      "Epoch 58: loss: 0.05 accuracy: 0.76\n",
      "Epoch 59: loss: 0.05 accuracy: 0.76\n",
      "Epoch 60: loss: 0.05 accuracy: 0.76\n",
      "Epoch 61: loss: 0.05 accuracy: 0.77\n",
      "Epoch 62: loss: 0.05 accuracy: 0.76\n",
      "Epoch 63: loss: 0.05 accuracy: 0.77\n",
      "Epoch 64: loss: 0.05 accuracy: 0.77\n",
      "Epoch 65: loss: 0.05 accuracy: 0.77\n",
      "Epoch 66: loss: 0.05 accuracy: 0.77\n",
      "Epoch 67: loss: 0.05 accuracy: 0.77\n",
      "Epoch 68: loss: 0.05 accuracy: 0.77\n",
      "Epoch 69: loss: 0.05 accuracy: 0.77\n",
      "Epoch 70: loss: 0.05 accuracy: 0.77\n",
      "Epoch 71: loss: 0.05 accuracy: 0.77\n",
      "Epoch 72: loss: 0.05 accuracy: 0.77\n",
      "Epoch 73: loss: 0.05 accuracy: 0.77\n",
      "Epoch 74: loss: 0.05 accuracy: 0.77\n",
      "Epoch 75: loss: 0.05 accuracy: 0.77\n",
      "Epoch 76: loss: 0.05 accuracy: 0.77\n",
      "Epoch 77: loss: 0.05 accuracy: 0.77\n",
      "Epoch 78: loss: 0.05 accuracy: 0.77\n",
      "Epoch 79: loss: 0.05 accuracy: 0.77\n",
      "Epoch 80: loss: 0.05 accuracy: 0.77\n",
      "Epoch 81: loss: 0.05 accuracy: 0.77\n",
      "Epoch 82: loss: 0.05 accuracy: 0.77\n",
      "Epoch 83: loss: 0.05 accuracy: 0.77\n",
      "Epoch 84: loss: 0.05 accuracy: 0.77\n",
      "Epoch 85: loss: 0.05 accuracy: 0.77\n",
      "Epoch 86: loss: 0.05 accuracy: 0.77\n",
      "Epoch 87: loss: 0.05 accuracy: 0.77\n",
      "Epoch 88: loss: 0.05 accuracy: 0.78\n",
      "Epoch 89: loss: 0.05 accuracy: 0.78\n",
      "Epoch 90: loss: 0.05 accuracy: 0.78\n",
      "Epoch 91: loss: 0.05 accuracy: 0.78\n",
      "Epoch 92: loss: 0.05 accuracy: 0.78\n",
      "Epoch 93: loss: 0.05 accuracy: 0.78\n",
      "Epoch 94: loss: 0.05 accuracy: 0.78\n",
      "Epoch 95: loss: 0.05 accuracy: 0.78\n",
      "Epoch 96: loss: 0.05 accuracy: 0.78\n",
      "Epoch 97: loss: 0.05 accuracy: 0.78\n",
      "Epoch 98: loss: 0.05 accuracy: 0.78\n",
      "Epoch 99: loss: 0.05 accuracy: 0.78\n",
      "Epoch 100: loss: 0.05 accuracy: 0.78\n"
     ]
    }
   ],
   "source": [
    "print 'Training...'\n",
    "\n",
    "with tf.Session() as sess:\n",
    "    sess.run(tf.global_variables_initializer())\n",
    "    for epoch in range(epochs):\n",
    "        n_batches = len(X_train.index) / batch_size\n",
    "        for batch_i in range(n_batches):\n",
    "            batch_features, batch_labels = get_batch(X_train, y_train, batch_i)\n",
    "            sess.run(optimizer, feed_dict={ x: batch_features, y: batch_labels, keep_prob: keep_probability })\n",
    "        print_stats(sess, epoch, X_train, y_train, X_validate, y_validate, loss, accuracy)\n",
    "        saver.save(sess, save_model_path + model_name, global_step=epoch)\n",
    "    saver.save(sess, save_model_path + model_name)"
   ]
  },
  {
   "cell_type": "markdown",
   "metadata": {},
   "source": [
    "### Test the model"
   ]
  },
  {
   "cell_type": "code",
   "execution_count": 10,
   "metadata": {},
   "outputs": [
    {
     "name": "stdout",
     "output_type": "stream",
     "text": [
      "Testing...\n",
      "INFO:tensorflow:Restoring parameters from model/model\n",
      "Testing Accuracy: 0.78\n"
     ]
    }
   ],
   "source": [
    "print 'Testing...'\n",
    "\n",
    "loaded_graph = tf.Graph()\n",
    "\n",
    "with tf.Session(graph=loaded_graph) as sess:\n",
    "    loader = tf.train.import_meta_graph(save_model_path + model_name + '.meta')\n",
    "    loader.restore(sess, save_model_path + model_name)\n",
    "    loaded_x = loaded_graph.get_tensor_by_name('x:0')\n",
    "    loaded_y = loaded_graph.get_tensor_by_name('y:0')\n",
    "    loaded_keep_prob = loaded_graph.get_tensor_by_name('keep_prob:0')\n",
    "    loaded_acc = loaded_graph.get_tensor_by_name('accuracy:0')\n",
    "    test_batch_acc_total = 0\n",
    "    test_batch_count = 0\n",
    "    n_batches = len(X_test.index) / batch_size\n",
    "    for batch_i in range(n_batches):\n",
    "        batch_features, batch_labels = get_batch(X_test, y_test, batch_i)\n",
    "        test_batch_acc_total += sess.run(loaded_acc, \n",
    "                                         feed_dict={ loaded_x: batch_features, \n",
    "                                                     loaded_y: batch_labels, loaded_keep_prob: 1.0 })\n",
    "        test_batch_count += 1\n",
    "    print 'Testing Accuracy: %.2f' % (test_batch_acc_total / test_batch_count)"
   ]
  }
 ],
 "metadata": {
  "kernelspec": {
   "display_name": "Python 2",
   "language": "python",
   "name": "python2"
  },
  "language_info": {
   "codemirror_mode": {
    "name": "ipython",
    "version": 2
   },
   "file_extension": ".py",
   "mimetype": "text/x-python",
   "name": "python",
   "nbconvert_exporter": "python",
   "pygments_lexer": "ipython2",
   "version": "2.7.14"
  }
 },
 "nbformat": 4,
 "nbformat_minor": 2
}
