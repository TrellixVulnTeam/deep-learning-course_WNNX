{
 "cells": [
  {
   "cell_type": "markdown",
   "metadata": {},
   "source": [
    "# Deep Learning - Exercise 1"
   ]
  },
  {
   "cell_type": "markdown",
   "metadata": {},
   "source": [
    "## Covertype Data Set\n",
    "\n",
    "Data set that was chosen for this exercise is the Covertype Data Set and the problem is a multiclass classification problem - predicting forest cover type from cartographic variables only (no remotely sensed data).\n",
    "\n",
    "[Link to dataset in UCI Machine Learning Repository](https://archive.ics.uci.edu/ml/datasets/Covertype)"
   ]
  },
  {
   "cell_type": "markdown",
   "metadata": {},
   "source": [
    "### Imports"
   ]
  },
  {
   "cell_type": "code",
   "execution_count": 1,
   "metadata": {
    "collapsed": true
   },
   "outputs": [],
   "source": [
    "import pandas as pd\n",
    "import tensorflow as tf\n",
    "import numpy as np\n",
    "\n",
    "from sklearn.model_selection import train_test_split\n",
    "from sklearn.preprocessing import MinMaxScaler, MultiLabelBinarizer"
   ]
  },
  {
   "cell_type": "markdown",
   "metadata": {},
   "source": [
    "### Read the data"
   ]
  },
  {
   "cell_type": "code",
   "execution_count": 2,
   "metadata": {
    "collapsed": true
   },
   "outputs": [],
   "source": [
    "df = pd.read_csv('covtype.data', names = ['Elevation', 'Aspect', 'Slope', 'Horizontal_Distance_To_Hydrology', \n",
    "                                          'Vertical_Distance_To_Hydrology', 'Horizontal_Distance_To_Roadways', \n",
    "                                          'Hillshade_9am', 'Hillshade_Noon', 'Hillshade_3pm', \n",
    "                                          'Horizontal_Distance_To_Fire_Points', 'Wilderness_Area1', \n",
    "                                          'Wilderness_Area2', 'Wilderness_Area3', 'Wilderness_Area4', 'Soil_Type1', \n",
    "                                          'Soil_Type2', 'Soil_Type3', 'Soil_Type4', 'Soil_Type5', 'Soil_Type6', \n",
    "                                          'Soil_Type7', 'Soil_Type8', 'Soil_Type9', 'Soil_Type10', 'Soil_Type11', \n",
    "                                          'Soil_Type12', 'Soil_Type13', 'Soil_Type14', 'Soil_Type15', \n",
    "                                          'Soil_Type16', 'Soil_Type17', 'Soil_Type18', 'Soil_Type19', \n",
    "                                          'Soil_Type20', 'Soil_Type21', 'Soil_Type22', 'Soil_Type23', \n",
    "                                          'Soil_Type24', 'Soil_Type25', 'Soil_Type26', 'Soil_Type27', \n",
    "                                          'Soil_Type28', 'Soil_Type29', 'Soil_Type30', 'Soil_Type31', \n",
    "                                          'Soil_Type32', 'Soil_Type33', 'Soil_Type34', 'Soil_Type35', \n",
    "                                          'Soil_Type36', 'Soil_Type37', 'Soil_Type38', 'Soil_Type39', \n",
    "                                          'Soil_Type40', 'Cover_Type'])\n",
    "label_column = 'Cover_Type'\n",
    "\n",
    "X = df.loc[:, df.columns != label_column].astype(float)\n",
    "y = df.loc[:, label_column]"
   ]
  },
  {
   "cell_type": "markdown",
   "metadata": {},
   "source": [
    "### Prepare the data as input for the network"
   ]
  },
  {
   "cell_type": "code",
   "execution_count": 3,
   "metadata": {
    "collapsed": true
   },
   "outputs": [],
   "source": [
    "# Normalize the data\n",
    "X_values = X.iloc[:, :10].values.reshape(-1, 10) \n",
    "min_max_scaler = MinMaxScaler()\n",
    "X.iloc[:, :10] = min_max_scaler.fit_transform(X_values)\n",
    "mlb = MultiLabelBinarizer()\n",
    "y = pd.DataFrame(mlb.fit_transform(y.values.reshape(-1, 1)).astype(float))"
   ]
  },
  {
   "cell_type": "markdown",
   "metadata": {},
   "source": [
    "### Split the data into train, test and validation"
   ]
  },
  {
   "cell_type": "code",
   "execution_count": 4,
   "metadata": {
    "collapsed": true
   },
   "outputs": [],
   "source": [
    "X_train, X_test, y_train, y_test = train_test_split(X, y, test_size=0.3, random_state=42)\n",
    "X_train, X_validate, y_train, y_validate = train_test_split(X_train, y_train, test_size=0.1, random_state=42)"
   ]
  },
  {
   "cell_type": "markdown",
   "metadata": {},
   "source": [
    "### Hyperparameter tuning"
   ]
  },
  {
   "cell_type": "code",
   "execution_count": 5,
   "metadata": {
    "collapsed": true
   },
   "outputs": [],
   "source": [
    "epochs = 10\n",
    "learning_rate = 0.01\n",
    "keep_probability = 0.75\n",
    "max_norm_constraint = 3\n",
    "regularization = 0.1\n",
    "hidden_layer_size = 256\n",
    "batch_size = 1000"
   ]
  },
  {
   "cell_type": "markdown",
   "metadata": {},
   "source": [
    "### Build the network"
   ]
  },
  {
   "cell_type": "code",
   "execution_count": 6,
   "metadata": {},
   "outputs": [],
   "source": [
    "# Reset\n",
    "tf.reset_default_graph()\n",
    "\n",
    "# Placeholders\n",
    "x = tf.placeholder(tf.float32, [None, X_train.shape[1]], 'x')\n",
    "y = tf.placeholder(tf.float32, [None, y_train.shape[1]], 'y')\n",
    "keep_prob = tf.placeholder(tf.float32, name='keep_prob')\n",
    "\n",
    "# Regularization\n",
    "regularizer = tf.contrib.layers.l2_regularizer(regularization)\n",
    "\n",
    "#TODO - max norm constraint?\n",
    "\n",
    "# Model\n",
    "model = tf.contrib.layers.fully_connected(x, hidden_layer_size, tf.nn.relu, weights_regularizer=regularizer)\n",
    "model = tf.nn.dropout(model, keep_prob)\n",
    "model = tf.contrib.layers.fully_connected(model, y_train.shape[1], weights_regularizer=regularizer)\n",
    "logits = tf.nn.softmax(model)\n",
    "\n",
    "# Loss and Optimizer\n",
    "cost = tf.reduce_mean(tf.squared_difference(logits, y))\n",
    "cost_summary = tf.summary.scalar('cost', cost)\n",
    "optimizer = tf.train.GradientDescentOptimizer(learning_rate).minimize(cost)\n",
    "\n",
    "# Accuracy\n",
    "correct_pred = tf.equal(tf.argmax(logits, 1), tf.argmax(y, 1))\n",
    "accuracy = tf.reduce_mean(tf.cast(correct_pred, tf.float32), name='accuracy')\n",
    "accuracy_summary = tf.summary.scalar('accuracy', accuracy)\n",
    "\n",
    "summary_op = tf.summary.merge_all()"
   ]
  },
  {
   "cell_type": "markdown",
   "metadata": {},
   "source": [
    "### Training and testing the network"
   ]
  },
  {
   "cell_type": "code",
   "execution_count": 7,
   "metadata": {
    "collapsed": true
   },
   "outputs": [],
   "source": [
    "def get_batch(X, y, current_batch_index):\n",
    "    batch_start_index = current_batch_index * batch_size\n",
    "    batch_end_index = (current_batch_index + 1) * batch_size\n",
    "    batch_features = X.iloc[batch_start_index:batch_end_index].values\n",
    "    batch_labels = y.iloc[batch_start_index:batch_end_index].values\n",
    "    return batch_features, batch_labels\n",
    "\n",
    "def print_stats(session, epoch, feature_batch, label_batch, cost, accuracy):\n",
    "    feed_cost = {x: feature_batch, y: label_batch, keep_prob: 1.0 }\n",
    "    feed_valid = {x: X_validate, y: y_validate, keep_prob: 1.0 }\n",
    "    cost = session.run(cost, feed_cost)\n",
    "    accuracy = session.run(accuracy, feed_valid)\n",
    "    print 'Epoch {:>2}: '.format(epoch + 1) + 'cost: %.2f' % cost, 'accuracy: %.2f' % accuracy\n",
    "    \n",
    "def clear_model(model):\n",
    "    !rm -rf model"
   ]
  },
  {
   "cell_type": "code",
   "execution_count": 8,
   "metadata": {},
   "outputs": [
    {
     "name": "stdout",
     "output_type": "stream",
     "text": [
      "Training...\n",
      "Epoch  1: cost: 0.11 accuracy: 0.46\n",
      "Testing accuracy: 0.46\n",
      "\n",
      "Epoch  2: cost: 0.10 accuracy: 0.48\n",
      "Testing accuracy: 0.48\n",
      "\n",
      "Epoch  3: cost: 0.10 accuracy: 0.49\n",
      "Testing accuracy: 0.49\n",
      "\n",
      "Epoch  4: cost: 0.09 accuracy: 0.49\n",
      "Testing accuracy: 0.49\n",
      "\n",
      "Epoch  5: cost: 0.09 accuracy: 0.49\n",
      "Testing accuracy: 0.49\n",
      "\n",
      "Epoch  6: cost: 0.09 accuracy: 0.49\n",
      "Testing accuracy: 0.49\n",
      "\n",
      "Epoch  7: cost: 0.09 accuracy: 0.49\n",
      "Testing accuracy: 0.49\n",
      "\n",
      "Epoch  8: cost: 0.09 accuracy: 0.49\n",
      "Testing accuracy: 0.49\n",
      "\n",
      "Epoch  9: cost: 0.09 accuracy: 0.49\n",
      "Testing accuracy: 0.49\n",
      "\n",
      "Epoch 10: cost: 0.09 accuracy: 0.50\n",
      "Testing accuracy: 0.50\n",
      "\n"
     ]
    }
   ],
   "source": [
    "save_model_path = 'model'\n",
    "clear_model(save_model_path)\n",
    "saver = tf.train.Saver()\n",
    "train_summary_writer = tf.summary.FileWriter('train')\n",
    "test_summary_writer = tf.summary.FileWriter('test')\n",
    "print 'Training...'\n",
    "with tf.Session() as sess:\n",
    "    sess.run(tf.global_variables_initializer())\n",
    "    for epoch in range(epochs):\n",
    "        n_batches = X_train.shape[0] / batch_size\n",
    "        for batch_i in range(n_batches):\n",
    "            batch_features, batch_labels = get_batch(X_train, y_train, batch_i)\n",
    "            _, summary = sess.run([optimizer, summary_op], feed_dict={x: batch_features, y: batch_labels, keep_prob: keep_probability})\n",
    "            train_summary_writer.add_summary(summary, epoch * n_batches + batch_i)\n",
    "        print_stats(sess, epoch, batch_features, batch_labels, cost, accuracy)\n",
    "        test_batch_acc_total = 0\n",
    "        test_batch_count = 0\n",
    "        n_batches = X_test.shape[0] / batch_size\n",
    "        for batch_i in range(n_batches):\n",
    "            batch_features, batch_labels = get_batch(X_test, y_test, batch_i)\n",
    "            acc, summary = sess.run([accuracy, summary_op], feed_dict={x:batch_features,y:batch_labels,keep_prob:1.0})\n",
    "            test_batch_acc_total += acc\n",
    "            test_batch_count += 1\n",
    "            test_summary_writer.add_summary(summary, epoch * n_batches + batch_i)\n",
    "        print 'Testing accuracy: %.2f\\n' % (test_batch_acc_total / test_batch_count)\n",
    "        saver.save(sess, save_model_path + '/model', global_step=epoch)\n",
    "    saver.save(sess, save_model_path + '/model')"
   ]
  }
 ],
 "metadata": {
  "kernelspec": {
   "display_name": "Python 2",
   "language": "python",
   "name": "python2"
  },
  "language_info": {
   "codemirror_mode": {
    "name": "ipython",
    "version": 2
   },
   "file_extension": ".py",
   "mimetype": "text/x-python",
   "name": "python",
   "nbconvert_exporter": "python",
   "pygments_lexer": "ipython2",
   "version": "2.7.14"
  }
 },
 "nbformat": 4,
 "nbformat_minor": 2
}
