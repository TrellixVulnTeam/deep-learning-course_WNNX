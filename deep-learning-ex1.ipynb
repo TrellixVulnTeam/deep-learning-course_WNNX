{
 "cells": [
  {
   "cell_type": "markdown",
   "metadata": {},
   "source": [
    "# Deep Learning - Exercise 1"
   ]
  },
  {
   "cell_type": "markdown",
   "metadata": {},
   "source": [
    "## Covertype Data Set\n",
    "\n",
    "Data set that was chosen for this exercise is the Covertype Data Set and the problem is a multiclass classification problem - predicting forest cover type from cartographic variables only (no remotely sensed data).\n",
    "\n",
    "[Link to dataset in UCI Machine Learning Repository](https://archive.ics.uci.edu/ml/datasets/Covertype)"
   ]
  },
  {
   "cell_type": "markdown",
   "metadata": {},
   "source": [
    "### Imports"
   ]
  },
  {
   "cell_type": "code",
   "execution_count": 1,
   "metadata": {
    "collapsed": true
   },
   "outputs": [],
   "source": [
    "import pandas as pd\n",
    "import tensorflow as tf\n",
    "import numpy as np\n",
    "\n",
    "from sklearn.model_selection import train_test_split\n",
    "from sklearn.preprocessing import MinMaxScaler, MultiLabelBinarizer"
   ]
  },
  {
   "cell_type": "markdown",
   "metadata": {},
   "source": [
    "### Read the data"
   ]
  },
  {
   "cell_type": "code",
   "execution_count": 2,
   "metadata": {
    "collapsed": true
   },
   "outputs": [],
   "source": [
    "df = pd.read_csv('covtype.data', names = ['Elevation', 'Aspect', 'Slope', 'Horizontal_Distance_To_Hydrology', \n",
    "                                          'Vertical_Distance_To_Hydrology', 'Horizontal_Distance_To_Roadways', \n",
    "                                          'Hillshade_9am', 'Hillshade_Noon', 'Hillshade_3pm', \n",
    "                                          'Horizontal_Distance_To_Fire_Points', 'Wilderness_Area1', \n",
    "                                          'Wilderness_Area2', 'Wilderness_Area3', 'Wilderness_Area4', 'Soil_Type1', \n",
    "                                          'Soil_Type2', 'Soil_Type3', 'Soil_Type4', 'Soil_Type5', 'Soil_Type6', \n",
    "                                          'Soil_Type7', 'Soil_Type8', 'Soil_Type9', 'Soil_Type10', 'Soil_Type11', \n",
    "                                          'Soil_Type12', 'Soil_Type13', 'Soil_Type14', 'Soil_Type15', \n",
    "                                          'Soil_Type16', 'Soil_Type17', 'Soil_Type18', 'Soil_Type19', \n",
    "                                          'Soil_Type20', 'Soil_Type21', 'Soil_Type22', 'Soil_Type23', \n",
    "                                          'Soil_Type24', 'Soil_Type25', 'Soil_Type26', 'Soil_Type27', \n",
    "                                          'Soil_Type28', 'Soil_Type29', 'Soil_Type30', 'Soil_Type31', \n",
    "                                          'Soil_Type32', 'Soil_Type33', 'Soil_Type34', 'Soil_Type35', \n",
    "                                          'Soil_Type36', 'Soil_Type37', 'Soil_Type38', 'Soil_Type39', \n",
    "                                          'Soil_Type40', 'Cover_Type'])\n",
    "label_column = 'Cover_Type'\n",
    "\n",
    "X = df.loc[:, df.columns != label_column].astype(float)\n",
    "y = df.loc[:, label_column]"
   ]
  },
  {
   "cell_type": "markdown",
   "metadata": {},
   "source": [
    "### Prepare the data as input for the network"
   ]
  },
  {
   "cell_type": "code",
   "execution_count": 3,
   "metadata": {
    "collapsed": true
   },
   "outputs": [],
   "source": [
    "# Normalize the data\n",
    "X_values = X.iloc[:, :10].values.reshape(-1, 10) \n",
    "min_max_scaler = MinMaxScaler()\n",
    "X.iloc[:, :10] = min_max_scaler.fit_transform(X_values)\n",
    "mlb = MultiLabelBinarizer()\n",
    "y = pd.DataFrame(mlb.fit_transform(y.values.reshape(-1, 1)).astype(float))"
   ]
  },
  {
   "cell_type": "markdown",
   "metadata": {},
   "source": [
    "### Split the data into train, test and validation"
   ]
  },
  {
   "cell_type": "code",
   "execution_count": 4,
   "metadata": {
    "collapsed": true
   },
   "outputs": [],
   "source": [
    "X_train, X_test, y_train, y_test = train_test_split(X, y, test_size=0.3, random_state=42)\n",
    "X_train, X_validate, y_train, y_validate = train_test_split(X_train, y_train, test_size=0.1, random_state=42)"
   ]
  },
  {
   "cell_type": "markdown",
   "metadata": {},
   "source": [
    "### Hyperparameter tuning"
   ]
  },
  {
   "cell_type": "code",
   "execution_count": 17,
   "metadata": {
    "collapsed": true
   },
   "outputs": [],
   "source": [
    "epochs = 100\n",
    "learning_rate = 0.01\n",
    "keep_probability = 0.85\n",
    "max_norm_constraint = 3\n",
    "regularization = 0.1\n",
    "hidden_layer_size = 256\n",
    "batch_size = 1000"
   ]
  },
  {
   "cell_type": "markdown",
   "metadata": {},
   "source": [
    "### Build the network"
   ]
  },
  {
   "cell_type": "code",
   "execution_count": 6,
   "metadata": {
    "collapsed": true
   },
   "outputs": [],
   "source": [
    "# Reset\n",
    "tf.reset_default_graph()\n",
    "\n",
    "# Placeholders\n",
    "x = tf.placeholder(tf.float32, [None, X_train.shape[1]], 'x')\n",
    "y = tf.placeholder(tf.float32, [None, y_train.shape[1]], 'y')\n",
    "keep_prob = tf.placeholder(tf.float32, name='keep_prob')\n",
    "\n",
    "# Regularization\n",
    "#regularizer = tf.contrib.layers.l2_regularizer(scale=regularization)\n",
    "\n",
    "# Model\n",
    "model = tf.layers.dense(x, hidden_layer_size, tf.nn.relu)#, kernel_initializer=regularizer)\n",
    "model = tf.nn.dropout(model, keep_prob)\n",
    "model = tf.layers.dense(model, y_train.shape[1])#, kernel_initializer=regularizer)\n",
    "logits = tf.nn.softmax(model)\n",
    "\n",
    "# Loss and Optimizer\n",
    "cost = tf.reduce_mean(tf.nn.softmax_cross_entropy_with_logits(logits=logits, labels=y))\n",
    "#cost = tf.reduce_mean(tf.squared_difference(logits, y))\n",
    "optimizer = tf.train.GradientDescentOptimizer(learning_rate).minimize(cost)\n",
    "\n",
    "# Accuracy\n",
    "correct_pred = tf.equal(tf.argmax(logits, 1), tf.argmax(y, 1))\n",
    "accuracy = tf.reduce_mean(tf.cast(correct_pred, tf.float32), name='accuracy')"
   ]
  },
  {
   "cell_type": "markdown",
   "metadata": {},
   "source": [
    "### Training the network"
   ]
  },
  {
   "cell_type": "code",
   "execution_count": 15,
   "metadata": {
    "collapsed": true
   },
   "outputs": [],
   "source": [
    "def get_batch(X, y, current_batch_index):\n",
    "    batch_start_index = current_batch_index * batch_size\n",
    "    batch_end_index = (current_batch_index + 1) * batch_size\n",
    "    batch_features = X.iloc[batch_start_index:batch_end_index].values\n",
    "    batch_labels = y.iloc[batch_start_index:batch_end_index].values\n",
    "    return batch_features, batch_labels\n",
    "\n",
    "def print_stats(session, epoch, feature_batch, label_batch, cost, accuracy):\n",
    "    feed_cost = {x: feature_batch, y: label_batch, keep_prob: 1.0 }\n",
    "    feed_valid = {x: X_validate, y: y_validate, keep_prob: 1.0 }\n",
    "    cost = session.run(cost, feed_cost)\n",
    "    accuracy = session.run(accuracy, feed_valid)\n",
    "    print 'Epoch {:>2}: '.format(epoch + 1) + 'cost: %.2f' % cost, 'accuracy: %.2f' % accuracy"
   ]
  },
  {
   "cell_type": "code",
   "execution_count": 18,
   "metadata": {},
   "outputs": [
    {
     "name": "stdout",
     "output_type": "stream",
     "text": [
      "Training...\n",
      "Epoch  1: cost: 1.75 accuracy: 0.49\n",
      "Epoch  2: cost: 1.68 accuracy: 0.49\n",
      "Epoch  3: cost: 1.68 accuracy: 0.49\n",
      "Epoch  4: cost: 1.67 accuracy: 0.49\n",
      "Epoch  5: cost: 1.67 accuracy: 0.49\n",
      "Epoch  6: cost: 1.67 accuracy: 0.49\n",
      "Epoch  7: cost: 1.67 accuracy: 0.49\n",
      "Epoch  8: cost: 1.67 accuracy: 0.49\n",
      "Epoch  9: cost: 1.67 accuracy: 0.49\n",
      "Epoch 10: cost: 1.67 accuracy: 0.49\n",
      "Epoch 11: cost: 1.66 accuracy: 0.49\n",
      "Epoch 12: cost: 1.66 accuracy: 0.49\n",
      "Epoch 13: cost: 1.65 accuracy: 0.49\n",
      "Epoch 14: cost: 1.64 accuracy: 0.50\n",
      "Epoch 15: cost: 1.64 accuracy: 0.53\n",
      "Epoch 16: cost: 1.63 accuracy: 0.56\n",
      "Epoch 17: cost: 1.62 accuracy: 0.58\n",
      "Epoch 18: cost: 1.62 accuracy: 0.58\n",
      "Epoch 19: cost: 1.61 accuracy: 0.58\n",
      "Epoch 20: cost: 1.61 accuracy: 0.58\n",
      "Epoch 21: cost: 1.60 accuracy: 0.58\n",
      "Epoch 22: cost: 1.60 accuracy: 0.59\n",
      "Epoch 23: cost: 1.60 accuracy: 0.59\n",
      "Epoch 24: cost: 1.59 accuracy: 0.59\n",
      "Epoch 25: cost: 1.59 accuracy: 0.59\n",
      "Epoch 26: cost: 1.59 accuracy: 0.59\n",
      "Epoch 27: cost: 1.59 accuracy: 0.59\n",
      "Epoch 28: cost: 1.58 accuracy: 0.59\n",
      "Epoch 29: cost: 1.58 accuracy: 0.59\n",
      "Epoch 30: cost: 1.58 accuracy: 0.59\n",
      "Epoch 31: cost: 1.58 accuracy: 0.59\n",
      "Epoch 32: cost: 1.58 accuracy: 0.59\n",
      "Epoch 33: cost: 1.58 accuracy: 0.60\n",
      "Epoch 34: cost: 1.57 accuracy: 0.60\n",
      "Epoch 35: cost: 1.57 accuracy: 0.60\n",
      "Epoch 36: cost: 1.57 accuracy: 0.60\n",
      "Epoch 37: cost: 1.57 accuracy: 0.60\n",
      "Epoch 38: cost: 1.57 accuracy: 0.60\n",
      "Epoch 39: cost: 1.57 accuracy: 0.60\n",
      "Epoch 40: cost: 1.57 accuracy: 0.60\n",
      "Epoch 41: cost: 1.57 accuracy: 0.60\n",
      "Epoch 42: cost: 1.57 accuracy: 0.60\n",
      "Epoch 43: cost: 1.57 accuracy: 0.60\n",
      "Epoch 44: cost: 1.56 accuracy: 0.60\n",
      "Epoch 45: cost: 1.56 accuracy: 0.60\n",
      "Epoch 46: cost: 1.56 accuracy: 0.61\n",
      "Epoch 47: cost: 1.56 accuracy: 0.60\n",
      "Epoch 48: cost: 1.56 accuracy: 0.61\n",
      "Epoch 49: cost: 1.56 accuracy: 0.61\n",
      "Epoch 50: cost: 1.56 accuracy: 0.61\n",
      "Epoch 51: cost: 1.56 accuracy: 0.61\n",
      "Epoch 52: cost: 1.56 accuracy: 0.61\n",
      "Epoch 53: cost: 1.56 accuracy: 0.61\n",
      "Epoch 54: cost: 1.56 accuracy: 0.61\n",
      "Epoch 55: cost: 1.56 accuracy: 0.61\n",
      "Epoch 56: cost: 1.55 accuracy: 0.61\n",
      "Epoch 57: cost: 1.55 accuracy: 0.61\n",
      "Epoch 58: cost: 1.55 accuracy: 0.62\n",
      "Epoch 59: cost: 1.55 accuracy: 0.62\n",
      "Epoch 60: cost: 1.55 accuracy: 0.62\n",
      "Epoch 61: cost: 1.55 accuracy: 0.62\n",
      "Epoch 62: cost: 1.55 accuracy: 0.62\n",
      "Epoch 63: cost: 1.55 accuracy: 0.62\n",
      "Epoch 64: cost: 1.55 accuracy: 0.62\n",
      "Epoch 65: cost: 1.55 accuracy: 0.62\n",
      "Epoch 66: cost: 1.55 accuracy: 0.62\n",
      "Epoch 67: cost: 1.55 accuracy: 0.62\n",
      "Epoch 68: cost: 1.55 accuracy: 0.62\n",
      "Epoch 69: cost: 1.54 accuracy: 0.63\n",
      "Epoch 70: cost: 1.54 accuracy: 0.63\n",
      "Epoch 71: cost: 1.54 accuracy: 0.63\n",
      "Epoch 72: cost: 1.54 accuracy: 0.63\n",
      "Epoch 73: cost: 1.54 accuracy: 0.63\n",
      "Epoch 74: cost: 1.54 accuracy: 0.63\n",
      "Epoch 75: cost: 1.54 accuracy: 0.63\n",
      "Epoch 76: cost: 1.54 accuracy: 0.63\n",
      "Epoch 77: cost: 1.54 accuracy: 0.63\n",
      "Epoch 78: cost: 1.54 accuracy: 0.63\n",
      "Epoch 79: cost: 1.54 accuracy: 0.64\n",
      "Epoch 80: cost: 1.54 accuracy: 0.64\n",
      "Epoch 81: cost: 1.54 accuracy: 0.64\n",
      "Epoch 82: cost: 1.54 accuracy: 0.64\n",
      "Epoch 83: cost: 1.53 accuracy: 0.64\n",
      "Epoch 84: cost: 1.53 accuracy: 0.64\n",
      "Epoch 85: cost: 1.53 accuracy: 0.64\n",
      "Epoch 86: cost: 1.53 accuracy: 0.64\n",
      "Epoch 87: cost: 1.53 accuracy: 0.64\n",
      "Epoch 88: cost: 1.53 accuracy: 0.64\n",
      "Epoch 89: cost: 1.53 accuracy: 0.64\n",
      "Epoch 90: cost: 1.53 accuracy: 0.64\n",
      "Epoch 91: cost: 1.53 accuracy: 0.64\n",
      "Epoch 92: cost: 1.53 accuracy: 0.64\n",
      "Epoch 93: cost: 1.53 accuracy: 0.64\n",
      "Epoch 94: cost: 1.53 accuracy: 0.65\n",
      "Epoch 95: cost: 1.53 accuracy: 0.65\n",
      "Epoch 96: cost: 1.53 accuracy: 0.65\n",
      "Epoch 97: cost: 1.53 accuracy: 0.65\n",
      "Epoch 98: cost: 1.53 accuracy: 0.65\n",
      "Epoch 99: cost: 1.52 accuracy: 0.65\n",
      "Epoch 100: cost: 1.52 accuracy: 0.65\n"
     ]
    }
   ],
   "source": [
    "save_model_path = './saver'\n",
    "print 'Training...'\n",
    "with tf.Session() as sess:\n",
    "    sess.run(tf.global_variables_initializer())\n",
    "    for epoch in range(epochs):\n",
    "        n_batches = X_train.shape[0] / batch_size\n",
    "        for batch_i in range(n_batches):\n",
    "            batch_features, batch_labels = get_batch(X_train, y_train, batch_i)\n",
    "            sess.run(optimizer, feed_dict={x: batch_features, y: batch_labels, keep_prob: keep_probability})\n",
    "        print_stats(sess, epoch, batch_features, batch_labels, cost, accuracy)\n",
    "    tf.train.Saver().save(sess, save_model_path)"
   ]
  },
  {
   "cell_type": "markdown",
   "metadata": {},
   "source": [
    "### Test the network"
   ]
  },
  {
   "cell_type": "code",
   "execution_count": 19,
   "metadata": {},
   "outputs": [
    {
     "name": "stdout",
     "output_type": "stream",
     "text": [
      "Testing...\n"
     ]
    },
    {
     "ename": "FailedPreconditionError",
     "evalue": "Attempting to use uninitialized value dense/kernel\n\t [[Node: dense/kernel/read = Identity[T=DT_FLOAT, _class=[\"loc:@dense/kernel\"], _device=\"/job:localhost/replica:0/task:0/cpu:0\"](dense/kernel)]]\n\nCaused by op u'dense/kernel/read', defined at:\n  File \"/anaconda2/lib/python2.7/runpy.py\", line 174, in _run_module_as_main\n    \"__main__\", fname, loader, pkg_name)\n  File \"/anaconda2/lib/python2.7/runpy.py\", line 72, in _run_code\n    exec code in run_globals\n  File \"/anaconda2/lib/python2.7/site-packages/ipykernel_launcher.py\", line 16, in <module>\n    app.launch_new_instance()\n  File \"/anaconda2/lib/python2.7/site-packages/traitlets/config/application.py\", line 658, in launch_instance\n    app.start()\n  File \"/anaconda2/lib/python2.7/site-packages/ipykernel/kernelapp.py\", line 477, in start\n    ioloop.IOLoop.instance().start()\n  File \"/anaconda2/lib/python2.7/site-packages/zmq/eventloop/ioloop.py\", line 177, in start\n    super(ZMQIOLoop, self).start()\n  File \"/anaconda2/lib/python2.7/site-packages/tornado/ioloop.py\", line 888, in start\n    handler_func(fd_obj, events)\n  File \"/anaconda2/lib/python2.7/site-packages/tornado/stack_context.py\", line 277, in null_wrapper\n    return fn(*args, **kwargs)\n  File \"/anaconda2/lib/python2.7/site-packages/zmq/eventloop/zmqstream.py\", line 440, in _handle_events\n    self._handle_recv()\n  File \"/anaconda2/lib/python2.7/site-packages/zmq/eventloop/zmqstream.py\", line 472, in _handle_recv\n    self._run_callback(callback, msg)\n  File \"/anaconda2/lib/python2.7/site-packages/zmq/eventloop/zmqstream.py\", line 414, in _run_callback\n    callback(*args, **kwargs)\n  File \"/anaconda2/lib/python2.7/site-packages/tornado/stack_context.py\", line 277, in null_wrapper\n    return fn(*args, **kwargs)\n  File \"/anaconda2/lib/python2.7/site-packages/ipykernel/kernelbase.py\", line 283, in dispatcher\n    return self.dispatch_shell(stream, msg)\n  File \"/anaconda2/lib/python2.7/site-packages/ipykernel/kernelbase.py\", line 235, in dispatch_shell\n    handler(stream, idents, msg)\n  File \"/anaconda2/lib/python2.7/site-packages/ipykernel/kernelbase.py\", line 399, in execute_request\n    user_expressions, allow_stdin)\n  File \"/anaconda2/lib/python2.7/site-packages/ipykernel/ipkernel.py\", line 196, in do_execute\n    res = shell.run_cell(code, store_history=store_history, silent=silent)\n  File \"/anaconda2/lib/python2.7/site-packages/ipykernel/zmqshell.py\", line 533, in run_cell\n    return super(ZMQInteractiveShell, self).run_cell(*args, **kwargs)\n  File \"/anaconda2/lib/python2.7/site-packages/IPython/core/interactiveshell.py\", line 2718, in run_cell\n    interactivity=interactivity, compiler=compiler, result=result)\n  File \"/anaconda2/lib/python2.7/site-packages/IPython/core/interactiveshell.py\", line 2822, in run_ast_nodes\n    if self.run_code(code, result):\n  File \"/anaconda2/lib/python2.7/site-packages/IPython/core/interactiveshell.py\", line 2882, in run_code\n    exec(code_obj, self.user_global_ns, self.user_ns)\n  File \"<ipython-input-6-644311b97325>\", line 13, in <module>\n    model = tf.layers.dense(x, hidden_layer_size, tf.nn.relu)#, kernel_initializer=regularizer)\n  File \"/anaconda2/lib/python2.7/site-packages/tensorflow/python/layers/core.py\", line 215, in dense\n    return layer.apply(inputs)\n  File \"/anaconda2/lib/python2.7/site-packages/tensorflow/python/layers/base.py\", line 503, in apply\n    return self.__call__(inputs, *args, **kwargs)\n  File \"/anaconda2/lib/python2.7/site-packages/tensorflow/python/layers/base.py\", line 443, in __call__\n    self.build(input_shapes[0])\n  File \"/anaconda2/lib/python2.7/site-packages/tensorflow/python/layers/core.py\", line 118, in build\n    trainable=True)\n  File \"/anaconda2/lib/python2.7/site-packages/tensorflow/python/layers/base.py\", line 383, in add_variable\n    trainable=trainable and self.trainable)\n  File \"/anaconda2/lib/python2.7/site-packages/tensorflow/python/ops/variable_scope.py\", line 1065, in get_variable\n    use_resource=use_resource, custom_getter=custom_getter)\n  File \"/anaconda2/lib/python2.7/site-packages/tensorflow/python/ops/variable_scope.py\", line 962, in get_variable\n    use_resource=use_resource, custom_getter=custom_getter)\n  File \"/anaconda2/lib/python2.7/site-packages/tensorflow/python/ops/variable_scope.py\", line 367, in get_variable\n    validate_shape=validate_shape, use_resource=use_resource)\n  File \"/anaconda2/lib/python2.7/site-packages/tensorflow/python/ops/variable_scope.py\", line 352, in _true_getter\n    use_resource=use_resource)\n  File \"/anaconda2/lib/python2.7/site-packages/tensorflow/python/ops/variable_scope.py\", line 725, in _get_single_variable\n    validate_shape=validate_shape)\n  File \"/anaconda2/lib/python2.7/site-packages/tensorflow/python/ops/variables.py\", line 199, in __init__\n    expected_shape=expected_shape)\n  File \"/anaconda2/lib/python2.7/site-packages/tensorflow/python/ops/variables.py\", line 330, in _init_from_args\n    self._snapshot = array_ops.identity(self._variable, name=\"read\")\n  File \"/anaconda2/lib/python2.7/site-packages/tensorflow/python/ops/gen_array_ops.py\", line 1400, in identity\n    result = _op_def_lib.apply_op(\"Identity\", input=input, name=name)\n  File \"/anaconda2/lib/python2.7/site-packages/tensorflow/python/framework/op_def_library.py\", line 767, in apply_op\n    op_def=op_def)\n  File \"/anaconda2/lib/python2.7/site-packages/tensorflow/python/framework/ops.py\", line 2630, in create_op\n    original_op=self._default_original_op, op_def=op_def)\n  File \"/anaconda2/lib/python2.7/site-packages/tensorflow/python/framework/ops.py\", line 1204, in __init__\n    self._traceback = self._graph._extract_stack()  # pylint: disable=protected-access\n\nFailedPreconditionError (see above for traceback): Attempting to use uninitialized value dense/kernel\n\t [[Node: dense/kernel/read = Identity[T=DT_FLOAT, _class=[\"loc:@dense/kernel\"], _device=\"/job:localhost/replica:0/task:0/cpu:0\"](dense/kernel)]]\n",
     "output_type": "error",
     "traceback": [
      "\u001b[0;31m---------------------------------------------------------------------------\u001b[0m",
      "\u001b[0;31mFailedPreconditionError\u001b[0m                   Traceback (most recent call last)",
      "\u001b[0;32m<ipython-input-19-fe3e3361b5e7>\u001b[0m in \u001b[0;36m<module>\u001b[0;34m()\u001b[0m\n\u001b[1;32m      6\u001b[0m     \u001b[0;32mfor\u001b[0m \u001b[0mbatch_i\u001b[0m \u001b[0;32min\u001b[0m \u001b[0mrange\u001b[0m\u001b[0;34m(\u001b[0m\u001b[0mn_batches\u001b[0m\u001b[0;34m)\u001b[0m\u001b[0;34m:\u001b[0m\u001b[0;34m\u001b[0m\u001b[0m\n\u001b[1;32m      7\u001b[0m         \u001b[0mbatch_features\u001b[0m\u001b[0;34m,\u001b[0m \u001b[0mbatch_labels\u001b[0m \u001b[0;34m=\u001b[0m \u001b[0mget_batch\u001b[0m\u001b[0;34m(\u001b[0m\u001b[0mX_test\u001b[0m\u001b[0;34m,\u001b[0m \u001b[0my_test\u001b[0m\u001b[0;34m,\u001b[0m \u001b[0mbatch_i\u001b[0m\u001b[0;34m)\u001b[0m\u001b[0;34m\u001b[0m\u001b[0m\n\u001b[0;32m----> 8\u001b[0;31m         \u001b[0mtest_batch_acc_total\u001b[0m \u001b[0;34m+=\u001b[0m \u001b[0msess\u001b[0m\u001b[0;34m.\u001b[0m\u001b[0mrun\u001b[0m\u001b[0;34m(\u001b[0m\u001b[0maccuracy\u001b[0m\u001b[0;34m,\u001b[0m \u001b[0mfeed_dict\u001b[0m\u001b[0;34m=\u001b[0m\u001b[0;34m{\u001b[0m\u001b[0mx\u001b[0m\u001b[0;34m:\u001b[0m \u001b[0mbatch_features\u001b[0m\u001b[0;34m,\u001b[0m \u001b[0my\u001b[0m\u001b[0;34m:\u001b[0m \u001b[0mbatch_labels\u001b[0m\u001b[0;34m,\u001b[0m \u001b[0mkeep_prob\u001b[0m\u001b[0;34m:\u001b[0m \u001b[0;36m1.0\u001b[0m\u001b[0;34m}\u001b[0m\u001b[0;34m)\u001b[0m\u001b[0;34m\u001b[0m\u001b[0m\n\u001b[0m\u001b[1;32m      9\u001b[0m         \u001b[0mtest_batch_count\u001b[0m \u001b[0;34m+=\u001b[0m \u001b[0;36m1\u001b[0m\u001b[0;34m\u001b[0m\u001b[0m\n\u001b[1;32m     10\u001b[0m     \u001b[0;32mprint\u001b[0m \u001b[0;34m'Testing Accuracy: {}\\n'\u001b[0m\u001b[0;34m.\u001b[0m\u001b[0mformat\u001b[0m\u001b[0;34m(\u001b[0m\u001b[0mtest_batch_acc_total\u001b[0m \u001b[0;34m/\u001b[0m \u001b[0mtest_batch_count\u001b[0m\u001b[0;34m)\u001b[0m\u001b[0;34m\u001b[0m\u001b[0m\n",
      "\u001b[0;32m/anaconda2/lib/python2.7/site-packages/tensorflow/python/client/session.pyc\u001b[0m in \u001b[0;36mrun\u001b[0;34m(self, fetches, feed_dict, options, run_metadata)\u001b[0m\n\u001b[1;32m    893\u001b[0m     \u001b[0;32mtry\u001b[0m\u001b[0;34m:\u001b[0m\u001b[0;34m\u001b[0m\u001b[0m\n\u001b[1;32m    894\u001b[0m       result = self._run(None, fetches, feed_dict, options_ptr,\n\u001b[0;32m--> 895\u001b[0;31m                          run_metadata_ptr)\n\u001b[0m\u001b[1;32m    896\u001b[0m       \u001b[0;32mif\u001b[0m \u001b[0mrun_metadata\u001b[0m\u001b[0;34m:\u001b[0m\u001b[0;34m\u001b[0m\u001b[0m\n\u001b[1;32m    897\u001b[0m         \u001b[0mproto_data\u001b[0m \u001b[0;34m=\u001b[0m \u001b[0mtf_session\u001b[0m\u001b[0;34m.\u001b[0m\u001b[0mTF_GetBuffer\u001b[0m\u001b[0;34m(\u001b[0m\u001b[0mrun_metadata_ptr\u001b[0m\u001b[0;34m)\u001b[0m\u001b[0;34m\u001b[0m\u001b[0m\n",
      "\u001b[0;32m/anaconda2/lib/python2.7/site-packages/tensorflow/python/client/session.pyc\u001b[0m in \u001b[0;36m_run\u001b[0;34m(self, handle, fetches, feed_dict, options, run_metadata)\u001b[0m\n\u001b[1;32m   1122\u001b[0m     \u001b[0;32mif\u001b[0m \u001b[0mfinal_fetches\u001b[0m \u001b[0;32mor\u001b[0m \u001b[0mfinal_targets\u001b[0m \u001b[0;32mor\u001b[0m \u001b[0;34m(\u001b[0m\u001b[0mhandle\u001b[0m \u001b[0;32mand\u001b[0m \u001b[0mfeed_dict_tensor\u001b[0m\u001b[0;34m)\u001b[0m\u001b[0;34m:\u001b[0m\u001b[0;34m\u001b[0m\u001b[0m\n\u001b[1;32m   1123\u001b[0m       results = self._do_run(handle, final_targets, final_fetches,\n\u001b[0;32m-> 1124\u001b[0;31m                              feed_dict_tensor, options, run_metadata)\n\u001b[0m\u001b[1;32m   1125\u001b[0m     \u001b[0;32melse\u001b[0m\u001b[0;34m:\u001b[0m\u001b[0;34m\u001b[0m\u001b[0m\n\u001b[1;32m   1126\u001b[0m       \u001b[0mresults\u001b[0m \u001b[0;34m=\u001b[0m \u001b[0;34m[\u001b[0m\u001b[0;34m]\u001b[0m\u001b[0;34m\u001b[0m\u001b[0m\n",
      "\u001b[0;32m/anaconda2/lib/python2.7/site-packages/tensorflow/python/client/session.pyc\u001b[0m in \u001b[0;36m_do_run\u001b[0;34m(self, handle, target_list, fetch_list, feed_dict, options, run_metadata)\u001b[0m\n\u001b[1;32m   1319\u001b[0m     \u001b[0;32mif\u001b[0m \u001b[0mhandle\u001b[0m \u001b[0;32mis\u001b[0m \u001b[0mNone\u001b[0m\u001b[0;34m:\u001b[0m\u001b[0;34m\u001b[0m\u001b[0m\n\u001b[1;32m   1320\u001b[0m       return self._do_call(_run_fn, self._session, feeds, fetches, targets,\n\u001b[0;32m-> 1321\u001b[0;31m                            options, run_metadata)\n\u001b[0m\u001b[1;32m   1322\u001b[0m     \u001b[0;32melse\u001b[0m\u001b[0;34m:\u001b[0m\u001b[0;34m\u001b[0m\u001b[0m\n\u001b[1;32m   1323\u001b[0m       \u001b[0;32mreturn\u001b[0m \u001b[0mself\u001b[0m\u001b[0;34m.\u001b[0m\u001b[0m_do_call\u001b[0m\u001b[0;34m(\u001b[0m\u001b[0m_prun_fn\u001b[0m\u001b[0;34m,\u001b[0m \u001b[0mself\u001b[0m\u001b[0;34m.\u001b[0m\u001b[0m_session\u001b[0m\u001b[0;34m,\u001b[0m \u001b[0mhandle\u001b[0m\u001b[0;34m,\u001b[0m \u001b[0mfeeds\u001b[0m\u001b[0;34m,\u001b[0m \u001b[0mfetches\u001b[0m\u001b[0;34m)\u001b[0m\u001b[0;34m\u001b[0m\u001b[0m\n",
      "\u001b[0;32m/anaconda2/lib/python2.7/site-packages/tensorflow/python/client/session.pyc\u001b[0m in \u001b[0;36m_do_call\u001b[0;34m(self, fn, *args)\u001b[0m\n\u001b[1;32m   1338\u001b[0m         \u001b[0;32mexcept\u001b[0m \u001b[0mKeyError\u001b[0m\u001b[0;34m:\u001b[0m\u001b[0;34m\u001b[0m\u001b[0m\n\u001b[1;32m   1339\u001b[0m           \u001b[0;32mpass\u001b[0m\u001b[0;34m\u001b[0m\u001b[0m\n\u001b[0;32m-> 1340\u001b[0;31m       \u001b[0;32mraise\u001b[0m \u001b[0mtype\u001b[0m\u001b[0;34m(\u001b[0m\u001b[0me\u001b[0m\u001b[0;34m)\u001b[0m\u001b[0;34m(\u001b[0m\u001b[0mnode_def\u001b[0m\u001b[0;34m,\u001b[0m \u001b[0mop\u001b[0m\u001b[0;34m,\u001b[0m \u001b[0mmessage\u001b[0m\u001b[0;34m)\u001b[0m\u001b[0;34m\u001b[0m\u001b[0m\n\u001b[0m\u001b[1;32m   1341\u001b[0m \u001b[0;34m\u001b[0m\u001b[0m\n\u001b[1;32m   1342\u001b[0m   \u001b[0;32mdef\u001b[0m \u001b[0m_extend_graph\u001b[0m\u001b[0;34m(\u001b[0m\u001b[0mself\u001b[0m\u001b[0;34m)\u001b[0m\u001b[0;34m:\u001b[0m\u001b[0;34m\u001b[0m\u001b[0m\n",
      "\u001b[0;31mFailedPreconditionError\u001b[0m: Attempting to use uninitialized value dense/kernel\n\t [[Node: dense/kernel/read = Identity[T=DT_FLOAT, _class=[\"loc:@dense/kernel\"], _device=\"/job:localhost/replica:0/task:0/cpu:0\"](dense/kernel)]]\n\nCaused by op u'dense/kernel/read', defined at:\n  File \"/anaconda2/lib/python2.7/runpy.py\", line 174, in _run_module_as_main\n    \"__main__\", fname, loader, pkg_name)\n  File \"/anaconda2/lib/python2.7/runpy.py\", line 72, in _run_code\n    exec code in run_globals\n  File \"/anaconda2/lib/python2.7/site-packages/ipykernel_launcher.py\", line 16, in <module>\n    app.launch_new_instance()\n  File \"/anaconda2/lib/python2.7/site-packages/traitlets/config/application.py\", line 658, in launch_instance\n    app.start()\n  File \"/anaconda2/lib/python2.7/site-packages/ipykernel/kernelapp.py\", line 477, in start\n    ioloop.IOLoop.instance().start()\n  File \"/anaconda2/lib/python2.7/site-packages/zmq/eventloop/ioloop.py\", line 177, in start\n    super(ZMQIOLoop, self).start()\n  File \"/anaconda2/lib/python2.7/site-packages/tornado/ioloop.py\", line 888, in start\n    handler_func(fd_obj, events)\n  File \"/anaconda2/lib/python2.7/site-packages/tornado/stack_context.py\", line 277, in null_wrapper\n    return fn(*args, **kwargs)\n  File \"/anaconda2/lib/python2.7/site-packages/zmq/eventloop/zmqstream.py\", line 440, in _handle_events\n    self._handle_recv()\n  File \"/anaconda2/lib/python2.7/site-packages/zmq/eventloop/zmqstream.py\", line 472, in _handle_recv\n    self._run_callback(callback, msg)\n  File \"/anaconda2/lib/python2.7/site-packages/zmq/eventloop/zmqstream.py\", line 414, in _run_callback\n    callback(*args, **kwargs)\n  File \"/anaconda2/lib/python2.7/site-packages/tornado/stack_context.py\", line 277, in null_wrapper\n    return fn(*args, **kwargs)\n  File \"/anaconda2/lib/python2.7/site-packages/ipykernel/kernelbase.py\", line 283, in dispatcher\n    return self.dispatch_shell(stream, msg)\n  File \"/anaconda2/lib/python2.7/site-packages/ipykernel/kernelbase.py\", line 235, in dispatch_shell\n    handler(stream, idents, msg)\n  File \"/anaconda2/lib/python2.7/site-packages/ipykernel/kernelbase.py\", line 399, in execute_request\n    user_expressions, allow_stdin)\n  File \"/anaconda2/lib/python2.7/site-packages/ipykernel/ipkernel.py\", line 196, in do_execute\n    res = shell.run_cell(code, store_history=store_history, silent=silent)\n  File \"/anaconda2/lib/python2.7/site-packages/ipykernel/zmqshell.py\", line 533, in run_cell\n    return super(ZMQInteractiveShell, self).run_cell(*args, **kwargs)\n  File \"/anaconda2/lib/python2.7/site-packages/IPython/core/interactiveshell.py\", line 2718, in run_cell\n    interactivity=interactivity, compiler=compiler, result=result)\n  File \"/anaconda2/lib/python2.7/site-packages/IPython/core/interactiveshell.py\", line 2822, in run_ast_nodes\n    if self.run_code(code, result):\n  File \"/anaconda2/lib/python2.7/site-packages/IPython/core/interactiveshell.py\", line 2882, in run_code\n    exec(code_obj, self.user_global_ns, self.user_ns)\n  File \"<ipython-input-6-644311b97325>\", line 13, in <module>\n    model = tf.layers.dense(x, hidden_layer_size, tf.nn.relu)#, kernel_initializer=regularizer)\n  File \"/anaconda2/lib/python2.7/site-packages/tensorflow/python/layers/core.py\", line 215, in dense\n    return layer.apply(inputs)\n  File \"/anaconda2/lib/python2.7/site-packages/tensorflow/python/layers/base.py\", line 503, in apply\n    return self.__call__(inputs, *args, **kwargs)\n  File \"/anaconda2/lib/python2.7/site-packages/tensorflow/python/layers/base.py\", line 443, in __call__\n    self.build(input_shapes[0])\n  File \"/anaconda2/lib/python2.7/site-packages/tensorflow/python/layers/core.py\", line 118, in build\n    trainable=True)\n  File \"/anaconda2/lib/python2.7/site-packages/tensorflow/python/layers/base.py\", line 383, in add_variable\n    trainable=trainable and self.trainable)\n  File \"/anaconda2/lib/python2.7/site-packages/tensorflow/python/ops/variable_scope.py\", line 1065, in get_variable\n    use_resource=use_resource, custom_getter=custom_getter)\n  File \"/anaconda2/lib/python2.7/site-packages/tensorflow/python/ops/variable_scope.py\", line 962, in get_variable\n    use_resource=use_resource, custom_getter=custom_getter)\n  File \"/anaconda2/lib/python2.7/site-packages/tensorflow/python/ops/variable_scope.py\", line 367, in get_variable\n    validate_shape=validate_shape, use_resource=use_resource)\n  File \"/anaconda2/lib/python2.7/site-packages/tensorflow/python/ops/variable_scope.py\", line 352, in _true_getter\n    use_resource=use_resource)\n  File \"/anaconda2/lib/python2.7/site-packages/tensorflow/python/ops/variable_scope.py\", line 725, in _get_single_variable\n    validate_shape=validate_shape)\n  File \"/anaconda2/lib/python2.7/site-packages/tensorflow/python/ops/variables.py\", line 199, in __init__\n    expected_shape=expected_shape)\n  File \"/anaconda2/lib/python2.7/site-packages/tensorflow/python/ops/variables.py\", line 330, in _init_from_args\n    self._snapshot = array_ops.identity(self._variable, name=\"read\")\n  File \"/anaconda2/lib/python2.7/site-packages/tensorflow/python/ops/gen_array_ops.py\", line 1400, in identity\n    result = _op_def_lib.apply_op(\"Identity\", input=input, name=name)\n  File \"/anaconda2/lib/python2.7/site-packages/tensorflow/python/framework/op_def_library.py\", line 767, in apply_op\n    op_def=op_def)\n  File \"/anaconda2/lib/python2.7/site-packages/tensorflow/python/framework/ops.py\", line 2630, in create_op\n    original_op=self._default_original_op, op_def=op_def)\n  File \"/anaconda2/lib/python2.7/site-packages/tensorflow/python/framework/ops.py\", line 1204, in __init__\n    self._traceback = self._graph._extract_stack()  # pylint: disable=protected-access\n\nFailedPreconditionError (see above for traceback): Attempting to use uninitialized value dense/kernel\n\t [[Node: dense/kernel/read = Identity[T=DT_FLOAT, _class=[\"loc:@dense/kernel\"], _device=\"/job:localhost/replica:0/task:0/cpu:0\"](dense/kernel)]]\n"
     ]
    }
   ],
   "source": [
    "print 'Testing...'\n",
    "with tf.Session() as sess:\n",
    "    test_batch_acc_total = 0\n",
    "    test_batch_count = 0\n",
    "    n_batches = X_test.shape[0] / batch_size\n",
    "    for batch_i in range(n_batches):\n",
    "        batch_features, batch_labels = get_batch(X_test, y_test, batch_i)\n",
    "        test_batch_acc_total += sess.run(accuracy, feed_dict={x: batch_features, y: batch_labels, keep_prob: 1.0})\n",
    "        test_batch_count += 1\n",
    "    print 'Testing Accuracy: {}\\n'.format(test_batch_acc_total / test_batch_count)"
   ]
  }
 ],
 "metadata": {
  "kernelspec": {
   "display_name": "Python 2",
   "language": "python",
   "name": "python2"
  },
  "language_info": {
   "codemirror_mode": {
    "name": "ipython",
    "version": 2
   },
   "file_extension": ".py",
   "mimetype": "text/x-python",
   "name": "python",
   "nbconvert_exporter": "python",
   "pygments_lexer": "ipython2",
   "version": "2.7.14"
  }
 },
 "nbformat": 4,
 "nbformat_minor": 2
}
