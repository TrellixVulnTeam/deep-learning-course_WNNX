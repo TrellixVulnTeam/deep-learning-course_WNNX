{
 "cells": [
  {
   "cell_type": "markdown",
   "metadata": {},
   "source": [
    "# Deep Learning - Exercise 1"
   ]
  },
  {
   "cell_type": "markdown",
   "metadata": {},
   "source": [
    "## Covertype Data Set\n",
    "\n",
    "Data set that was chosen for this exercise is the Covertype Data Set and the problem is a multiclass classification problem - predicting forest cover type from cartographic variables only (no remotely sensed data).\n",
    "\n",
    "[Link to dataset in UCI Machine Learning Repository](https://archive.ics.uci.edu/ml/datasets/Covertype)"
   ]
  },
  {
   "cell_type": "markdown",
   "metadata": {},
   "source": [
    "### Imports"
   ]
  },
  {
   "cell_type": "code",
   "execution_count": 1,
   "metadata": {
    "collapsed": true
   },
   "outputs": [],
   "source": [
    "import pandas as pd\n",
    "import tensorflow as tf\n",
    "import numpy as np\n",
    "\n",
    "import datetime, argparse, sys, os, gzip\n",
    "\n",
    "from sklearn.model_selection import train_test_split\n",
    "from sklearn.preprocessing import MinMaxScaler, MultiLabelBinarizer\n",
    "\n",
    "from helper import clear_model, print_stats, get_batch, print_console_log, download_file"
   ]
  },
  {
   "cell_type": "markdown",
   "metadata": {},
   "source": [
    "### Get the dataset"
   ]
  },
  {
   "cell_type": "code",
   "execution_count": 2,
   "metadata": {},
   "outputs": [
    {
     "name": "stdout",
     "output_type": "stream",
     "text": [
      "\r",
      "[================================================= ] 294572.0 bps\n",
      "\n"
     ]
    }
   ],
   "source": [
    "dataset_file = 'covtype.data'\n",
    "if not os.path.isfile(dataset_file):\n",
    "    download_file('https://archive.ics.uci.edu/ml/machine-learning-databases/covtype/' + dataset_file + '.gz')\n",
    "    in_file = gzip.open(dataset_file + '.gz', 'rb')\n",
    "    out_file = open(dataset_file, 'wb')\n",
    "    out_file.write(in_file.read())\n",
    "    in_file.close()\n",
    "    out_file.close()"
   ]
  },
  {
   "cell_type": "markdown",
   "metadata": {},
   "source": [
    "### Read the data"
   ]
  },
  {
   "cell_type": "code",
   "execution_count": 3,
   "metadata": {},
   "outputs": [],
   "source": [
    "df = pd.read_csv(dataset_file, \n",
    "                 names = ['Elevation', 'Aspect', 'Slope', 'Horizontal_Distance_To_Hydrology', \n",
    "                          'Vertical_Distance_To_Hydrology', 'Horizontal_Distance_To_Roadways', \n",
    "                          'Hillshade_9am', 'Hillshade_Noon', 'Hillshade_3pm', \n",
    "                          'Horizontal_Distance_To_Fire_Points', 'Wilderness_Area1', \n",
    "                          'Wilderness_Area2', 'Wilderness_Area3', 'Wilderness_Area4', \n",
    "                          'Soil_Type1', 'Soil_Type2', 'Soil_Type3', 'Soil_Type4', 'Soil_Type5', \n",
    "                          'Soil_Type6', 'Soil_Type7', 'Soil_Type8', 'Soil_Type9', 'Soil_Type10', \n",
    "                          'Soil_Type11', 'Soil_Type12', 'Soil_Type13', 'Soil_Type14', \n",
    "                          'Soil_Type15', 'Soil_Type16', 'Soil_Type17', 'Soil_Type18', \n",
    "                          'Soil_Type19', 'Soil_Type20', 'Soil_Type21', 'Soil_Type22', \n",
    "                          'Soil_Type23', 'Soil_Type24', 'Soil_Type25', 'Soil_Type26', \n",
    "                          'Soil_Type27', 'Soil_Type28', 'Soil_Type29', 'Soil_Type30', \n",
    "                          'Soil_Type31', 'Soil_Type32', 'Soil_Type33', 'Soil_Type34', \n",
    "                          'Soil_Type35', 'Soil_Type36', 'Soil_Type37', 'Soil_Type38', \n",
    "                          'Soil_Type39', 'Soil_Type40', 'Cover_Type'])\n",
    "\n",
    "X = df.loc[:, df.columns != 'Cover_Type'].astype(float)\n",
    "y = df.loc[:, 'Cover_Type']"
   ]
  },
  {
   "cell_type": "markdown",
   "metadata": {},
   "source": [
    "### Prepare the data as input for the network"
   ]
  },
  {
   "cell_type": "code",
   "execution_count": 4,
   "metadata": {
    "collapsed": true
   },
   "outputs": [],
   "source": [
    "# Normalize the data\n",
    "X_values = X.iloc[:, :10].values.reshape(-1, 10)\n",
    "X.iloc[:, :10] = MinMaxScaler().fit_transform(X_values)\n",
    "# One hot encode labels\n",
    "y = pd.DataFrame(MultiLabelBinarizer().fit_transform(y.values.reshape(-1, 1)).astype(float))"
   ]
  },
  {
   "cell_type": "markdown",
   "metadata": {},
   "source": [
    "### Split the data into train, test and validation"
   ]
  },
  {
   "cell_type": "code",
   "execution_count": 5,
   "metadata": {
    "collapsed": true
   },
   "outputs": [],
   "source": [
    "X_train, X_test, y_train, y_test = train_test_split(X, y, test_size=0.3, random_state=42)\n",
    "X_train, X_validate, y_train, y_validate = train_test_split(X_train, y_train, \n",
    "                                                            test_size=0.1, random_state=42)\n",
    "\n",
    "del X,y"
   ]
  },
  {
   "cell_type": "markdown",
   "metadata": {},
   "source": [
    "### Hyperparameter tuning"
   ]
  },
  {
   "cell_type": "code",
   "execution_count": 6,
   "metadata": {
    "collapsed": true
   },
   "outputs": [],
   "source": [
    "sys.argv=['']; del sys\n",
    "\n",
    "if __name__ == '__main__':\n",
    "    parser = argparse.ArgumentParser()\n",
    "    parser.add_argument(\"--lr\", type=float, nargs='?', help='learning rate', default=0.1)\n",
    "    parser.add_argument(\"--kp\", type=float, nargs='?', help='keep probability', default=0.75)\n",
    "    parser.add_argument(\"--rt\", type=str, nargs='?', help='regularizer_type', default='L2')    \n",
    "    parser.add_argument(\"--rn\", type=float, nargs='?', help='regularization', default=0.01)    \n",
    "    parser.add_argument(\"--mn\", type=int, nargs='?', help='max norm', default=3)\n",
    "    args = parser.parse_args()\n",
    "\n",
    "    LR = args.lr\n",
    "    KP = args.kp\n",
    "    RT = args.rt\n",
    "    RN = args.rn\n",
    "    MN = args.mn "
   ]
  },
  {
   "cell_type": "code",
   "execution_count": 7,
   "metadata": {},
   "outputs": [
    {
     "name": "stdout",
     "output_type": "stream",
     "text": [
      "Hyperparameters are:\n",
      "Learning Rate: 0.100000\n",
      "Keep Probability: 0.750000\n",
      "Regularizer Type: L2\n",
      "Regularization: 0.010000\n",
      "Max Norm Constraint: 3\n"
     ]
    }
   ],
   "source": [
    "epochs = 600\n",
    "hidden_layer_size = 512\n",
    "batch_size = 32\n",
    "\n",
    "learning_rate = LR\n",
    "keep_probability = KP\n",
    "regularizer_type = RT\n",
    "regularization = RN\n",
    "max_norm_constraint = MN\n",
    "\n",
    "print_console_log('Hyperparameters are:')\n",
    "print_console_log('Learning Rate: %f' % learning_rate)\n",
    "print_console_log('Keep Probability: %f' % keep_probability)\n",
    "print_console_log('Regularizer Type: %s' % regularizer_type)\n",
    "print_console_log('Regularization: %f' % regularization)\n",
    "print_console_log('Max Norm Constraint: %d' % max_norm_constraint)"
   ]
  },
  {
   "cell_type": "markdown",
   "metadata": {},
   "source": [
    "### Build the network"
   ]
  },
  {
   "cell_type": "code",
   "execution_count": 8,
   "metadata": {
    "collapsed": true
   },
   "outputs": [],
   "source": [
    "# Reset\n",
    "tf.reset_default_graph()\n",
    "\n",
    "# Placeholders\n",
    "x = tf.placeholder(tf.float32, [None, len(X_train.columns)], 'x')\n",
    "y = tf.placeholder(tf.float32, [None, len(y_train.columns)], 'y')\n",
    "keep_prob = tf.placeholder(tf.float32, name='keep_prob')\n",
    "\n",
    "# Regularization\n",
    "regularizer = None\n",
    "if regularizer_type == 'L1':\n",
    "    regularizer = tf.contrib.layers.l1_regularizer(regularization)\n",
    "elif regularizer_type == 'L2':\n",
    "    regularizer = tf.contrib.layers.l2_regularizer(regularization)\n",
    "#TODO - max norm constraint?\n",
    "\n",
    "# Model\n",
    "model = tf.contrib.layers.fully_connected(x, hidden_layer_size, tf.nn.relu, \n",
    "                                          weights_regularizer=regularizer)\n",
    "model = tf.nn.dropout(model, keep_prob)\n",
    "model = tf.contrib.layers.fully_connected(model, hidden_layer_size, tf.nn.relu, \n",
    "                                          weights_regularizer=regularizer)\n",
    "model = tf.nn.dropout(model, keep_prob)\n",
    "model = tf.contrib.layers.fully_connected(model, len(y_train.columns), \n",
    "                                          weights_regularizer=regularizer)\n",
    "logits = tf.nn.softmax(model)\n",
    "\n",
    "# Loss and Optimizer\n",
    "loss = tf.reduce_mean(tf.squared_difference(logits, y))\n",
    "tf.summary.scalar('loss', loss)\n",
    "optimizer = tf.train.GradientDescentOptimizer(learning_rate).minimize(loss)\n",
    "\n",
    "# Accuracy\n",
    "correct_pred = tf.equal(tf.argmax(logits, 1), tf.argmax(y, 1))\n",
    "accuracy = tf.reduce_mean(tf.cast(correct_pred, tf.float32))\n",
    "tf.summary.scalar('acc', accuracy)\n",
    "\n",
    "summary_op = tf.summary.merge_all()"
   ]
  },
  {
   "cell_type": "markdown",
   "metadata": {},
   "source": [
    "### For saving the model and writing to Tensorboard"
   ]
  },
  {
   "cell_type": "code",
   "execution_count": null,
   "metadata": {
    "collapsed": true
   },
   "outputs": [],
   "source": [
    "save_model_path = 'model/'\n",
    "model_name = 'model'\n",
    "tensorboard_path = 'tensorboard/'\n",
    "\n",
    "clear_model(save_model_path, tensorboard_path)\n",
    "\n",
    "train_summary_writer = tf.summary.FileWriter(tensorboard_path + 'train')\n",
    "test_summary_writer = tf.summary.FileWriter(tensorboard_path + 'test')\n",
    "\n",
    "saver = tf.train.Saver()"
   ]
  },
  {
   "cell_type": "markdown",
   "metadata": {},
   "source": [
    "### Training the model"
   ]
  },
  {
   "cell_type": "code",
   "execution_count": null,
   "metadata": {},
   "outputs": [
    {
     "name": "stdout",
     "output_type": "stream",
     "text": [
      "Training...\n",
      "Epoch  1: loss: 0.0585, accuracy: 0.707\n"
     ]
    }
   ],
   "source": [
    "print_console_log('Training...')\n",
    "\n",
    "start = datetime.datetime.now()\n",
    "with tf.Session() as sess:\n",
    "    sess.run(tf.global_variables_initializer())\n",
    "    for epoch in range(epochs):\n",
    "        n_batches = len(X_train.index) / batch_size\n",
    "        for batch_i in range(n_batches):\n",
    "            batch_features, batch_labels = get_batch(X_train, y_train, batch_i, batch_size)\n",
    "            sess.run(optimizer, feed_dict={ x: batch_features, y: batch_labels, \n",
    "                                            keep_prob: keep_probability })\n",
    "        loss_res, accuracy_res = print_stats(sess, epoch, X_train, y_train, X_validate, \n",
    "                                             y_validate, loss, accuracy, x, y, keep_prob, \n",
    "                                             summary_op, train_summary_writer, \n",
    "                                             test_summary_writer)\n",
    "        saver.save(sess, save_model_path + model_name, global_step=epoch)\n",
    "    saver.save(sess, save_model_path + model_name)  \n",
    "total = datetime.datetime.now() - start\n",
    "\n",
    "print_console_log('Training complete\\nTotal time: %.2f' % total.total_seconds() + ' seconds')\n",
    "print_console_log('Loss: %.2f' % loss_res + ', Accuracy: %.2f' % accuracy_res)"
   ]
  },
  {
   "cell_type": "markdown",
   "metadata": {},
   "source": [
    "### Test the model"
   ]
  },
  {
   "cell_type": "code",
   "execution_count": null,
   "metadata": {
    "collapsed": true
   },
   "outputs": [],
   "source": [
    "print_console_log('Testing...')\n",
    "\n",
    "loaded_graph = tf.Graph()\n",
    "\n",
    "with tf.Session(graph=loaded_graph) as sess:\n",
    "    loader = tf.train.import_meta_graph(save_model_path + model_name + '.meta')\n",
    "    loader.restore(sess, save_model_path + model_name)\n",
    "    loaded_x = loaded_graph.get_tensor_by_name('x:0')\n",
    "    loaded_y = loaded_graph.get_tensor_by_name('y:0')\n",
    "    loaded_keep_prob = loaded_graph.get_tensor_by_name('keep_prob:0')\n",
    "    loaded_acc = loaded_graph.get_tensor_by_name('accuracy:0')\n",
    "    test_batch_acc_total = 0\n",
    "    test_batch_count = 0\n",
    "    n_batches = len(X_test.index) / batch_size\n",
    "    for batch_i in range(n_batches):\n",
    "        batch_features, batch_labels = get_batch(X_test, y_test, batch_i, batch_size)\n",
    "        test_batch_acc_total += sess.run(loaded_acc, feed_dict={ loaded_x: batch_features, \n",
    "                                                     loaded_y: batch_labels, \n",
    "                                                     loaded_keep_prob: 1.0 })\n",
    "        test_batch_count += 1\n",
    "    print_console_log('Testing Accuracy: %.2f' % test_batch_acc_total / test_batch_count)"
   ]
  }
 ],
 "metadata": {
  "kernelspec": {
   "display_name": "Python 2",
   "language": "python",
   "name": "python2"
  },
  "language_info": {
   "codemirror_mode": {
    "name": "ipython",
    "version": 2
   },
   "file_extension": ".py",
   "mimetype": "text/x-python",
   "name": "python",
   "nbconvert_exporter": "python",
   "pygments_lexer": "ipython2",
   "version": "2.7.14"
  }
 },
 "nbformat": 4,
 "nbformat_minor": 2
}
