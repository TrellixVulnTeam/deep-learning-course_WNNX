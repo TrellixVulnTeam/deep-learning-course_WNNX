{
 "cells": [
  {
   "cell_type": "code",
   "execution_count": null,
   "metadata": {},
   "outputs": [
    {
     "name": "stdout",
     "output_type": "stream",
     "text": [
      ">> Downloading cifar-10-binary.tar.gz 93.3%"
     ]
    }
   ],
   "source": [
    "import cifar10_input\n",
    "import os\n",
    "import sys\n",
    "import tarfile\n",
    "\n",
    "import tensorflow as tf\n",
    "\n",
    "from six.moves import urllib\n",
    "\n",
    "# IMAGE_SIZE = cifar10_input.IMAGE_SIZE\n",
    "# NUM_CLASSES = cifar10_input.NUM_CLASSES\n",
    "# NUM_EXAMPLES_PER_EPOCH_FOR_TRAIN = cifar10_input.NUM_EXAMPLES_PER_EPOCH_FOR_TRAIN\n",
    "# NUM_EXAMPLES_PER_EPOCH_FOR_EVAL = cifar10_input.NUM_EXAMPLES_PER_EPOCH_FOR_EVAL\n",
    "\n",
    "BATCH_SIZE = 128\n",
    "DATA_DIR = 'cifar10_data'\n",
    "BATCHES_DIR = os.path.join(DATA_DIR, 'cifar-10-batches-bin')\n",
    "DATA_URL = 'https://www.cs.toronto.edu/~kriz/cifar-10-binary.tar.gz'\n",
    "\n",
    "def distorted_inputs():\n",
    "    return cifar10_input.distorted_inputs(data_dir=BATCHES_DIR, batch_size=BATCH_SIZE)\n",
    "\n",
    "def inputs(eval_data):\n",
    "    return cifar10_input.inputs(eval_data=eval_data, data_dir=BATCHES_DIR, batch_size=BATCH_SIZE)\n",
    "\n",
    "def maybe_download_and_extract():\n",
    "    dest_directory = DATA_DIR\n",
    "    if not os.path.exists(dest_directory):\n",
    "        os.makedirs(dest_directory)\n",
    "    filename = DATA_URL.split('/')[-1]\n",
    "    filepath = os.path.join(dest_directory, filename)\n",
    "    if not os.path.exists(filepath):\n",
    "        def _progress(count, block_size, total_size):\n",
    "            sys.stdout.write('\\r>> Downloading %s %.1f%%' % \\\n",
    "                             (filename, float(count * block_size) / float(total_size) * 100.0))\n",
    "            sys.stdout.flush()\n",
    "        filepath, _ = urllib.request.urlretrieve(DATA_URL, filepath, _progress)\n",
    "        print()\n",
    "        statinfo = os.stat(filepath)\n",
    "        print('Successfully downloaded', filename, statinfo.st_size, 'bytes.')\n",
    "    extracted_dir_path = os.path.join(dest_directory, 'cifar-10-batches-bin')\n",
    "    if not os.path.exists(extracted_dir_path):\n",
    "        tarfile.open(filepath, 'r:gz').extractall(dest_directory)\n",
    "        \n",
    "maybe_download_and_extract()"
   ]
  }
 ],
 "metadata": {
  "kernelspec": {
   "display_name": "Python 2",
   "language": "python",
   "name": "python2"
  },
  "language_info": {
   "codemirror_mode": {
    "name": "ipython",
    "version": 2
   },
   "file_extension": ".py",
   "mimetype": "text/x-python",
   "name": "python",
   "nbconvert_exporter": "python",
   "pygments_lexer": "ipython2",
   "version": "2.7.14"
  }
 },
 "nbformat": 4,
 "nbformat_minor": 2
}
